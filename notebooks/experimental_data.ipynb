{
 "cells": [
  {
   "cell_type": "code",
   "execution_count": 11,
   "metadata": {},
   "outputs": [],
   "source": [
    "import matplotlib.pyplot as plt\n",
    "import numpy as np\n",
    "import pandas as pd\n",
    "import os\n",
    "os.chdir('/Users/davidmiles-skov/Desktop/special_courses/materials_characterization/xrd_analysis/AutoXRD') # change working directory to root folder"
   ]
  },
  {
   "cell_type": "code",
   "execution_count": 12,
   "metadata": {},
   "outputs": [],
   "source": [
    "# utils\n",
    "from utils.grid_handlers import measurement_grid\n",
    "from utils.data_loaders import read_XRD\n",
    "from utils.plotting import plot_grid, plot_data"
   ]
  },
  {
   "cell_type": "markdown",
   "metadata": {},
   "source": [
    "Taking a look at Anat's data"
   ]
  },
  {
   "cell_type": "code",
   "execution_count": 13,
   "metadata": {},
   "outputs": [
    {
     "data": {
      "image/png": "[encoded data removed]",
      "text/plain": [
       "<Figure size 640x480 with 1 Axes>"
      ]
     },
     "metadata": {},
     "output_type": "display_data"
    }
   ],
   "source": [
    "# NOTE: Taking some code from 'intern-data-handling'\n",
    "\n",
    "#  Not 100% sure what all of this is doing\n",
    "\n",
    "grid = measurement_grid(5,5,34,34,-17,3) # BR_map 3mm margin (back sample)\n",
    "\n",
    "# Load from path\n",
    "\n",
    "path = 'data/anait_0016_Ba_all.txt'\n",
    "initial_data, coords = read_XRD(path, grid, n = 100, separator = \"\\t\")\n",
    "plot_grid(coords,grid)"
   ]
  },
  {
   "cell_type": "code",
   "execution_count": 14,
   "metadata": {},
   "outputs": [],
   "source": [
    "datatype_y= 'Intensity (counts)'\n",
    "datatype_x='2θ (°)'\n",
    "\n",
    "# plot_data(initial_data, datatype_x, datatype_y,plotscale = 'log')\n",
    "# display(initial_data)"
   ]
  },
  {
   "cell_type": "markdown",
   "metadata": {},
   "source": [
    "It appears that Anat's data is probably formatted in a different way than Lena's"
   ]
  },
  {
   "cell_type": "code",
   "execution_count": 15,
   "metadata": {},
   "outputs": [
    {
     "name": "stdout",
     "output_type": "stream",
     "text": [
      "dict_keys(['-17.0,3.0', '-8.5,3.0', '0.0,3.0', '-17.0,11.5', '-8.5,11.5', '0.0,11.5', '-17.0,20.0', '-8.5,20.0', '0.0,20.0', '-17.0,28.5', '-8.5,28.5', '0.0,28.5', '-17.0,37.0', '-8.5,37.0', '0.0,37.0', '8.5,3.0', '17.0,3.0', '8.5,11.5', '17.0,11.5', '8.5,20.0', '17.0,20.0', '8.5,28.5', '17.0,28.5', '8.5,37.0', '17.0,37.0'])\n"
     ]
    }
   ],
   "source": [
    "# Dictionary to store individual DataFrames\n",
    "dfs = {}\n",
    "\n",
    "# Loop over unique coordinates in the MultiIndex columns\n",
    "for coord in initial_data.columns.get_level_values(0).unique():\n",
    "    # Select columns belonging to the coordinate\n",
    "    dfs[coord] = initial_data[coord]  # This keeps the second level ('Data type')\n",
    "\n",
    "# Check one of the split DataFrames\n",
    "print(dfs.keys())  # List of coordinate names"
   ]
  },
  {
   "cell_type": "code",
   "execution_count": 16,
   "metadata": {},
   "outputs": [
    {
     "name": "stdout",
     "output_type": "stream",
     "text": [
      "Data type  2θ (°)  Intensity (counts)  2θ (°)  Intensity (counts)  2θ (°)  \\\n",
      "0           15.00            409.0166   15.00            430.3639   15.00   \n",
      "1           15.01            407.6708   15.01            425.1343   15.01   \n",
      "2           15.02            406.1328   15.02            419.1576   15.02   \n",
      "3           15.03            405.5370   15.03            413.7518   15.03   \n",
      "4           15.04            408.5557   15.04            410.5355   15.04   \n",
      "...           ...                 ...     ...                 ...     ...   \n",
      "6996          NaN                 NaN     NaN                 NaN     NaN   \n",
      "6997          NaN                 NaN     NaN                 NaN     NaN   \n",
      "6998          NaN                 NaN     NaN                 NaN     NaN   \n",
      "6999          NaN                 NaN     NaN                 NaN     NaN   \n",
      "7000          NaN                 NaN     NaN                 NaN     NaN   \n",
      "\n",
      "Data type  Intensity (counts)  2θ (°)  Intensity (counts)  2θ (°)  \\\n",
      "0                    405.7600   15.00            419.8746   15.00   \n",
      "1                    408.4317   15.01            422.6560   15.01   \n",
      "2                    411.4851   15.02            425.8348   15.02   \n",
      "3                    414.6375   15.03            427.5334   15.03   \n",
      "4                    418.1695   15.04            423.5537   15.04   \n",
      "...                       ...     ...                 ...     ...   \n",
      "6996                      NaN     NaN                 NaN     NaN   \n",
      "6997                      NaN     NaN                 NaN     NaN   \n",
      "6998                      NaN     NaN                 NaN     NaN   \n",
      "6999                      NaN     NaN                 NaN     NaN   \n",
      "7000                      NaN     NaN                 NaN     NaN   \n",
      "\n",
      "Data type  Intensity (counts)  ...  2θ (°)  Intensity (counts)  2θ (°)  \\\n",
      "0                    399.0924  ...   15.00            415.6400   15.00   \n",
      "1                    401.6999  ...   15.01            414.9237   15.01   \n",
      "2                    404.6798  ...   15.02            414.1051   15.02   \n",
      "3                    407.5671  ...   15.03            414.1070   15.03   \n",
      "4                    410.0992  ...   15.04            417.2566   15.04   \n",
      "...                       ...  ...     ...                 ...     ...   \n",
      "6996                      NaN  ...     NaN                 NaN     NaN   \n",
      "6997                      NaN  ...     NaN                 NaN     NaN   \n",
      "6998                      NaN  ...     NaN                 NaN     NaN   \n",
      "6999                      NaN  ...     NaN                 NaN     NaN   \n",
      "7000                      NaN  ...     NaN                 NaN     NaN   \n",
      "\n",
      "Data type  Intensity (counts)  2θ (°)  Intensity (counts)  2θ (°)  \\\n",
      "0                    426.9468   15.00            440.8849   15.00   \n",
      "1                    423.4965   15.01            431.3254   15.01   \n",
      "2                    419.5534   15.02            420.4001   15.02   \n",
      "3                    417.7648   15.03            413.3627   15.03   \n",
      "4                    424.2413   15.04            421.2383   15.04   \n",
      "...                       ...     ...                 ...     ...   \n",
      "6996                      NaN     NaN                 NaN     NaN   \n",
      "6997                      NaN     NaN                 NaN     NaN   \n",
      "6998                      NaN     NaN                 NaN     NaN   \n",
      "6999                      NaN     NaN                 NaN     NaN   \n",
      "7000                      NaN     NaN                 NaN     NaN   \n",
      "\n",
      "Data type  Intensity (counts)  2θ (°)  Intensity (counts)  \n",
      "0                    413.0897   15.00            421.4817  \n",
      "1                    410.0788   15.01            417.0316  \n",
      "2                    406.6378   15.02            411.9457  \n",
      "3                    405.1493   15.03            408.6398  \n",
      "4                    411.1509   15.04            412.1619  \n",
      "...                       ...     ...                 ...  \n",
      "6996                      NaN     NaN                 NaN  \n",
      "6997                      NaN     NaN                 NaN  \n",
      "6998                      NaN     NaN                 NaN  \n",
      "6999                      NaN     NaN                 NaN  \n",
      "7000                      NaN     NaN                 NaN  \n",
      "\n",
      "[7001 rows x 36 columns]\n"
     ]
    }
   ],
   "source": [
    "# Inspecting first df\n",
    "col_1 = list(dfs.keys())[0]\n",
    "\n",
    "print(dfs[col_1])\n",
    "# Drop the \"Data type\" thing\n",
    "dfs[col_1].columns.name = None\n"
   ]
  },
  {
   "cell_type": "code",
   "execution_count": 17,
   "metadata": {},
   "outputs": [
    {
     "name": "stdout",
     "output_type": "stream",
     "text": [
      "2θ (°)                1500\n",
      "Intensity (counts)    1500\n",
      "2θ (°)                1500\n",
      "Intensity (counts)    1500\n",
      "2θ (°)                1500\n",
      "Intensity (counts)    1500\n",
      "2θ (°)                1500\n",
      "Intensity (counts)    1500\n",
      "2θ (°)                1500\n",
      "Intensity (counts)    1500\n",
      "2θ (°)                1500\n",
      "Intensity (counts)    1500\n",
      "2θ (°)                1500\n",
      "Intensity (counts)    1500\n",
      "2θ (°)                1500\n",
      "Intensity (counts)    1500\n",
      "2θ (°)                1500\n",
      "Intensity (counts)    1500\n",
      "2θ (°)                1500\n",
      "Intensity (counts)    1500\n",
      "2θ (°)                1500\n",
      "Intensity (counts)    1500\n",
      "2θ (°)                1500\n",
      "Intensity (counts)    1500\n",
      "2θ (°)                1500\n",
      "Intensity (counts)    1500\n",
      "2θ (°)                1500\n",
      "Intensity (counts)    1500\n",
      "2θ (°)                1500\n",
      "Intensity (counts)    1500\n",
      "2θ (°)                1500\n",
      "Intensity (counts)    1500\n",
      "2θ (°)                1500\n",
      "Intensity (counts)    1500\n",
      "2θ (°)                1500\n",
      "Intensity (counts)    1500\n",
      "dtype: int64\n",
      "      2θ (°)  Intensity (counts)  2θ (°)  Intensity (counts)  2θ (°)  \\\n",
      "0      15.00            409.0166   15.00            430.3639   15.00   \n",
      "1      15.01            407.6708   15.01            425.1343   15.01   \n",
      "2      15.02            406.1328   15.02            419.1576   15.02   \n",
      "3      15.03            405.5370   15.03            413.7518   15.03   \n",
      "4      15.04            408.5557   15.04            410.5355   15.04   \n",
      "...      ...                 ...     ...                 ...     ...   \n",
      "5496   69.96            443.2202   69.96            422.6457   69.96   \n",
      "5497   69.97            430.8435   69.97            418.0540   69.97   \n",
      "5498   69.98            414.9732   69.98            415.3732   69.98   \n",
      "5499   69.99            400.2534   69.99            412.9013   69.99   \n",
      "5500   70.00            397.6644   70.00            412.6325   70.00   \n",
      "\n",
      "      Intensity (counts)  2θ (°)  Intensity (counts)  2θ (°)  \\\n",
      "0               405.7600   15.00            419.8746   15.00   \n",
      "1               408.4317   15.01            422.6560   15.01   \n",
      "2               411.4851   15.02            425.8348   15.02   \n",
      "3               414.6375   15.03            427.5334   15.03   \n",
      "4               418.1695   15.04            423.5537   15.04   \n",
      "...                  ...     ...                 ...     ...   \n",
      "5496            429.6448   69.96            425.2297   69.96   \n",
      "5497            427.5963   69.97            422.6204   69.97   \n",
      "5498            428.5711   69.98            425.4612   69.98   \n",
      "5499            429.0442   69.99            427.4804   69.99   \n",
      "5500            424.2275   70.00            420.8363   70.00   \n",
      "\n",
      "      Intensity (counts)  ...  2θ (°)  Intensity (counts)  2θ (°)  \\\n",
      "0               399.0924  ...   15.00            415.6400   15.00   \n",
      "1               401.6999  ...   15.01            414.9237   15.01   \n",
      "2               404.6798  ...   15.02            414.1051   15.02   \n",
      "3               407.5671  ...   15.03            414.1070   15.03   \n",
      "4               410.0992  ...   15.04            417.2566   15.04   \n",
      "...                  ...  ...     ...                 ...     ...   \n",
      "5496            428.3148  ...   69.96            428.4845   69.96   \n",
      "5497            415.3689  ...   69.97            420.0225   69.97   \n",
      "5498            401.9236  ...   69.98            409.6838   69.98   \n",
      "5499            389.6264  ...   69.99            400.2921   69.99   \n",
      "5500            389.4354  ...   70.00            400.8847   70.00   \n",
      "\n",
      "      Intensity (counts)  2θ (°)  Intensity (counts)  2θ (°)  \\\n",
      "0               426.9468   15.00            440.8849   15.00   \n",
      "1               423.4965   15.01            431.3254   15.01   \n",
      "2               419.5534   15.02            420.4001   15.02   \n",
      "3               417.7648   15.03            413.3627   15.03   \n",
      "4               424.2413   15.04            421.2383   15.04   \n",
      "...                  ...     ...                 ...     ...   \n",
      "5496            433.4240   69.96            418.5728   69.96   \n",
      "5497            424.5836   69.97            418.0489   69.97   \n",
      "5498            414.9691   69.98            417.5998   69.98   \n",
      "5499            405.7932   69.99            416.6015   69.99   \n",
      "5500            401.2419   70.00            409.8119   70.00   \n",
      "\n",
      "      Intensity (counts)  2θ (°)  Intensity (counts)  \n",
      "0               413.0897   15.00            421.4817  \n",
      "1               410.0788   15.01            417.0316  \n",
      "2               406.6378   15.02            411.9457  \n",
      "3               405.1493   15.03            408.6398  \n",
      "4               411.1509   15.04            412.1619  \n",
      "...                  ...     ...                 ...  \n",
      "5496            455.6287   69.96            455.2052  \n",
      "5497            451.1035   69.97            449.6620  \n",
      "5498            447.4788   69.98            444.7964  \n",
      "5499            444.1074   69.99            439.7415  \n",
      "5500            443.4073   70.00            432.6907  \n",
      "\n",
      "[5501 rows x 36 columns]\n"
     ]
    },
    {
     "name": "stderr",
     "output_type": "stream",
     "text": [
      "/var/folders/0h/y4r0kpjd647_xv_scm0kjtvr0000gn/T/ipykernel_90880/3827901867.py:2: SettingWithCopyWarning: \n",
      "A value is trying to be set on a copy of a slice from a DataFrame\n",
      "\n",
      "See the caveats in the documentation: https://pandas.pydata.org/pandas-docs/stable/user_guide/indexing.html#returning-a-view-versus-a-copy\n",
      "  dfs[col_1].dropna(inplace=True)\n"
     ]
    }
   ],
   "source": [
    "print(dfs[col_1].isna().sum())  # Count missing values per column\n",
    "dfs[col_1].dropna(inplace=True)\n",
    "print(dfs[col_1])  # Should show fewer rows if NaNs existed\n"
   ]
  },
  {
   "cell_type": "code",
   "execution_count": 20,
   "metadata": {},
   "outputs": [
    {
     "name": "stdout",
     "output_type": "stream",
     "text": [
      "Index(['2θ (°)', 'Intensity (counts)', '2θ (°)', 'Intensity (counts)',\n",
      "       '2θ (°)', 'Intensity (counts)', '2θ (°)', 'Intensity (counts)',\n",
      "       '2θ (°)', 'Intensity (counts)', '2θ (°)', 'Intensity (counts)',\n",
      "       '2θ (°)', 'Intensity (counts)', '2θ (°)', 'Intensity (counts)',\n",
      "       '2θ (°)', 'Intensity (counts)', '2θ (°)', 'Intensity (counts)',\n",
      "       '2θ (°)', 'Intensity (counts)', '2θ (°)', 'Intensity (counts)',\n",
      "       '2θ (°)', 'Intensity (counts)', '2θ (°)', 'Intensity (counts)',\n",
      "       '2θ (°)', 'Intensity (counts)', '2θ (°)', 'Intensity (counts)',\n",
      "       '2θ (°)', 'Intensity (counts)', '2θ (°)', 'Intensity (counts)'],\n",
      "      dtype='object')\n",
      "Index([   0,    1,    2,    3,    4,    5,    6,    7,    8,    9,\n",
      "       ...\n",
      "       5491, 5492, 5493, 5494, 5495, 5496, 5497, 5498, 5499, 5500],\n",
      "      dtype='int64', length=5501)\n"
     ]
    },
    {
     "data": {
      "image/png": "[encoded data removed]",
      "text/plain": [
       "<Figure size 640x480 with 1 Axes>"
      ]
     },
     "metadata": {},
     "output_type": "display_data"
    }
   ],
   "source": [
    "# Now, inspect\n",
    "print(dfs[col_1].columns)  # Check columns\n",
    "print(dfs[col_1].index)  # Check index\n",
    "\n",
    "# Now, we can plot the data\n",
    "fig, ax = plt.subplots()\n",
    "ax.plot(dfs[col_1][datatype_x], dfs[col_1][datatype_y])\n",
    "ax.set_xlabel(datatype_x)\n",
    "ax.set_ylabel(datatype_y)\n",
    "plt.show()\n"
   ]
  }
 ],
 "metadata": {
  "kernelspec": {
   "display_name": ".venv",
   "language": "python",
   "name": "python3"
  },
  "language_info": {
   "codemirror_mode": {
    "name": "ipython",
    "version": 3
   },
   "file_extension": ".py",
   "mimetype": "text/x-python",
   "name": "python",
   "nbconvert_exporter": "python",
   "pygments_lexer": "ipython3",
   "version": "3.12.8"
  }
 },
 "nbformat": 4,
 "nbformat_minor": 2
}
